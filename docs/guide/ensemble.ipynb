{
 "cells": [
  {
   "cell_type": "markdown",
   "metadata": {},
   "source": [
    "# Ансамблирование моделей\n",
    "\n",
    "В этом ноутбуке рассмотрим примеры того, как можно собирать и обучать ансамбль моделей.\n",
    "\n",
    "Начнем с подключения необходимых библиотек:"
   ]
  },
  {
   "cell_type": "code",
   "execution_count": null,
   "metadata": {},
   "outputs": [],
   "source": [
    "import numpy as np\n",
    "import torch\n",
    "from torch.optim.lr_scheduler import ExponentialLR\n",
    "\n",
    "import src.callbacks.curve\n",
    "import src.callbacks.heatmap\n",
    "import src.callbacks.progress\n",
    "import src.callbacks.save\n",
    "import src.problems\n",
    "from src.callbacks.callbacks_organizer import EnsembleCallbacksOrganizer\n",
    "from src.callbacks.heatmap import Grid\n",
    "from src.generation.rectangle_generator import *\n",
    "from src.neural_network import (\n",
    "    FNN,\n",
    "    ResNet,\n",
    "    XavierFNN,\n",
    ")\n",
    "from src.neural_network.ensemble import (\n",
    "    EnsembleTrainer,\n",
    "    ensemble_builder,\n",
    ")\n",
    "from src.utils import set_device"
   ]
  },
  {
   "cell_type": "markdown",
   "metadata": {},
   "source": [
    "Зафиксируем random_seed'ы и выберем ускоритель на котором будет обучаться наша модель. Если вам доступны GPU с поддержкой cuda, то именно этот девайс будет использован. Если вы хотите использовать CPU, используйте: \n",
    "\n",
    "`set_device('cpu')`"
   ]
  },
  {
   "cell_type": "code",
   "execution_count": null,
   "metadata": {},
   "outputs": [],
   "source": [
    "torch.manual_seed(42)\n",
    "np.random.seed(42)\n",
    "\n",
    "set_device()"
   ]
  },
  {
   "cell_type": "markdown",
   "metadata": {},
   "source": [
    "В этом примере мы уже возьмем готовую сформулированную проблему: уравнение Навье-Стокса с блоком. **#TODO ссылка туда, где будет рассказано про проблемсы**"
   ]
  },
  {
   "cell_type": "code",
   "execution_count": null,
   "metadata": {},
   "outputs": [],
   "source": [
    "conditions, input_dim, output_dim = src.problems.navier_stocks_equation_with_block()"
   ]
  },
  {
   "cell_type": "markdown",
   "metadata": {},
   "source": [
    "Итак, приступим к сборке ансамбля моделей. В этом примере мы рассмотрим случай, когда предобученных моделей у нас нет и мы хотим обучить несколько моделей с нуля, а затем объединить их предсказания мета-моделью.\n",
    "\n",
    "Используем 3 разных нейросети: `ResNet`, `FNN` и `XavierFNN`."
   ]
  },
  {
   "cell_type": "code",
   "execution_count": null,
   "metadata": {},
   "outputs": [],
   "source": [
    "models = [\n",
    "    ResNet([input_dim, 32, 64, 64, 32, output_dim]),\n",
    "    FNN([input_dim, 128, 256, 128, output_dim]),\n",
    "    XavierFNN([input_dim, 128, 128, 128, 128, output_dim]),\n",
    "]"
   ]
  },
  {
   "cell_type": "markdown",
   "metadata": {},
   "source": [
    "Дальше мы можем организовать работу несколькими способами в зависимости от того, насколько мы хотим варьировать отдельные члены ансамбля. Ниже приведен пример, когда для каждой модели создаются одинаковые генераторы точек и оптимизаторы, но ничто не мешает сделать их разными для каждой модели."
   ]
  },
  {
   "cell_type": "code",
   "execution_count": null,
   "metadata": {},
   "outputs": [],
   "source": [
    "generators_domain = [\n",
    "    UniformGeneratorRect(n_points=5000, method=\"uniform\") for _ in range(3)\n",
    "]\n",
    "\n",
    "generators_boundary = [\n",
    "    UniformGeneratorRect(n_points=500, method=\"uniform\") for _ in range(3)\n",
    "]\n",
    "\n",
    "optimizers = [torch.optim.Adam(model.parameters()) for model in models]\n",
    "\n",
    "schedulers = [ExponentialLR(optimizer=opt, gamma=0.999) for opt in optimizers]"
   ]
  },
  {
   "cell_type": "markdown",
   "metadata": {},
   "source": [
    "После того, как мы собрали все части `EnsembleInstance`, можем собрать конфинг для ансамбля:"
   ]
  },
  {
   "cell_type": "code",
   "execution_count": null,
   "metadata": {},
   "outputs": [],
   "source": [
    "ensemble_config = ensemble_builder(\n",
    "    models,\n",
    "    generators_domain,\n",
    "    generators_boundary,\n",
    "    [0, 1, 2, 3],\n",
    "    optimizers,\n",
    "    schedulers,\n",
    "    conditions,\n",
    ")"
   ]
  },
  {
   "cell_type": "markdown",
   "metadata": {},
   "source": [
    "Далее, мы используем различные коллбеки для отрисовки решений и визуализации процесса обучения. В примере ниже мы будем создавать коллбеки которые используют `Grid`. Создадим один объект `Grid` для всех таких коллбеков. Если необходима отризовка на разных сетках, можно также передавать разные объекты.\n",
    "\n",
    "Укажем также период вызова коллбеков и папку, в которую будем сохранять результаты эксперимента."
   ]
  },
  {
   "cell_type": "code",
   "execution_count": null,
   "metadata": {},
   "outputs": [],
   "source": [
    "PERIOD = 200\n",
    "gird = Grid.from_pinn(ensemble_config[0].pinn, 15000)\n",
    "SAVE_DIR = \"ensemble_experiment\""
   ]
  },
  {
   "cell_type": "markdown",
   "metadata": {},
   "source": [
    "В нашей задачи мы имеем выход размерности 3: ($u, v, p$). Чтобы сделать визуализацию каждого поля отдельно, создадим нужные коллбеки, передав соответствующие `output_index`."
   ]
  },
  {
   "cell_type": "code",
   "execution_count": null,
   "metadata": {},
   "outputs": [],
   "source": [
    "callbacks = [\n",
    "    src.callbacks.progress.TqdmBar(\"Epoch {epoch} lr={lr:.2e} Total={total_loss:.2e}\"),\n",
    "    src.callbacks.curve.LearningRateCurve(SAVE_DIR, PERIOD, log_scale=False),\n",
    "    src.callbacks.curve.LossCurve(SAVE_DIR, PERIOD),\n",
    "    src.callbacks.curve.GridResidualCurve(\n",
    "        SAVE_DIR,\n",
    "        PERIOD,\n",
    "        grid=gird,\n",
    "    ),\n",
    "    src.callbacks.heatmap.HeatmapPrediction(\n",
    "        SAVE_DIR, PERIOD, grid=gird, save_mode=\"html\", output_index=0\n",
    "    ),\n",
    "    src.callbacks.heatmap.HeatmapPrediction(\n",
    "        SAVE_DIR,\n",
    "        PERIOD,\n",
    "        grid=gird,\n",
    "        save_mode=\"html\",\n",
    "        output_index=1,\n",
    "    ),\n",
    "    src.callbacks.heatmap.HeatmapPrediction(\n",
    "        SAVE_DIR, PERIOD, grid=gird, save_mode=\"html\", output_index=2\n",
    "    ),\n",
    "]"
   ]
  },
  {
   "cell_type": "markdown",
   "metadata": {},
   "source": [
    "Почти готово! Осталось обернуть коллбеки в специальный класс `EnsembleCallbacksOrganizer` и создать `EnsembleTrainer`. Нужно использовать именно эти классы, вместо обычных `CallbacksOrganizer` и `Trainer`, т.к. работа с таким ансамблем требует некоторых дополнительных методов. "
   ]
  },
  {
   "cell_type": "code",
   "execution_count": null,
   "metadata": {},
   "outputs": [],
   "source": [
    "callbacks_orgaziner = EnsembleCallbacksOrganizer(callbacks)\n",
    "\n",
    "trainer = EnsembleTrainer(\n",
    "    ensemble_config,\n",
    "    callbacks_organizer=callbacks_orgaziner,\n",
    "    num_epochs=1000,\n",
    "    output_dim=output_dim,\n",
    ")\n",
    "\n",
    "trainer.train()"
   ]
  },
  {
   "cell_type": "markdown",
   "metadata": {},
   "source": []
  }
 ],
 "metadata": {
  "language_info": {
   "name": "python"
  }
 },
 "nbformat": 4,
 "nbformat_minor": 2
}
